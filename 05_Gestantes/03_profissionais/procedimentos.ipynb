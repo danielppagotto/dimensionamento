{
 "cells": [
  {
   "cell_type": "code",
   "execution_count": null,
   "metadata": {},
   "outputs": [],
   "source": [
    "import pyodbc\n",
    "import pandas as pd\n",
    "import requests\n",
    "import seaborn as sns\n",
    "import matplotlib.pyplot as plt\n",
    "import matplotlib.ticker as ticker\n",
    "from datetime import datetime"
   ]
  },
  {
   "cell_type": "markdown",
   "metadata": {},
   "source": [
    "# Baixando bases necessárias"
   ]
  },
  {
   "cell_type": "markdown",
   "metadata": {},
   "source": [
    "Vamos aplicar esse caso para regiões de saúde, pois é o escopo dos modelos que testamos "
   ]
  },
  {
   "cell_type": "code",
   "execution_count": null,
   "metadata": {},
   "outputs": [],
   "source": [
    "host = '***'\n",
    "port = ***\n",
    "uid = '***'\n",
    "pwd = '***'\n",
    "driver = 'Dremio Connector'\n",
    "\n",
    "cnxn = pyodbc.connect(\"Driver={};ConnectionType=Direct;HOST={};PORT={};AuthenticationType=Plain;UID={};PWD={}\".format(driver, host,port,uid,pwd),autocommit=True)\n",
    "\n",
    "sql = '''SELECT * FROM \"Analytics Layer\".\"Epidemiológico\".\"Nascidos Vivos por Região de Saúde\"\n",
    "         WHERE substr(COD_REGSAUD, 1, 2) = '52' '''\n",
    "\n",
    "df = pd.read_sql(sql,cnxn)\n",
    "df.head()\n"
   ]
  },
  {
   "cell_type": "code",
   "execution_count": null,
   "metadata": {},
   "outputs": [],
   "source": [
    "cols = ['ano','mes']\n",
    "df['ano_mes'] = df[cols].apply(lambda row: '-'.join(row.values.astype(str)), axis=1)\n",
    "\n",
    "df_t = df.drop(columns=['ano','mes'])\n",
    "\n",
    "df_t.info()"
   ]
  },
  {
   "cell_type": "markdown",
   "metadata": {},
   "source": [
    "Vamos usar o API criada pelo Wanderson para verificar os procedimentos necessários para cada nascido vivo de um mês de referência e região de saúde"
   ]
  },
  {
   "cell_type": "code",
   "execution_count": null,
   "metadata": {
    "collapsed": true
   },
   "outputs": [],
   "source": [
    "dfs = [] \n",
    "\n",
    "for _, row in df_t.iterrows():\n",
    "    qtd_nascidos = round(row['quantidade'])\n",
    "    ano_mes = row['ano_mes']\n",
    "    url = f'http://200.137.215.27:5025/calcula_procedimentos?mes_ano={ano_mes}&nascidos_vivos={qtd_nascidos}'\n",
    "    print(\"Chamando\", url)\n",
    "    resultado = requests.get(url)\n",
    "    df_it = pd.DataFrame(resultado.json())\n",
    "    df_it['ano_mes'] = row['ano_mes'] \n",
    "    df_it['qtd_nascidos'] = qtd_nascidos\n",
    "    df_it['regiao'] = row['cod_regsaud']\n",
    "    dfs.append(df_it)\n",
    "    df_full = pd.concat(dfs, ignore_index=True)"
   ]
  },
  {
   "cell_type": "code",
   "execution_count": null,
   "metadata": {},
   "outputs": [],
   "source": [
    "df_full.head()\n",
    "#df.to_csv(\"total_procedimentos_PBI.csv\")"
   ]
  },
  {
   "cell_type": "markdown",
   "metadata": {},
   "source": [
    "**Descrição de variáveis** \n",
    "- codigo_sigtap: código de identificação única de um procedimento (um procedimento pode ocorrer múltiplas vezes ao longo da gestação, como o pré-natal)\n",
    "- mes: mês de referência que aquele procedimento deve ser realizado (mês 1 = primeiro mês de gestação)\n",
    "- parametro: quantos procedimentos naquele mês para o total de gestantes devem ser realizados (ex.: existem procedimentos que só metade das gestantes precisam fazer) \n",
    "- procedimento: nome do procedimento\n",
    "- tipo_procedimento: tipo de procedimento\n",
    "- gestantes: tipo de gestante que realiza os procedimentos. Via de regra pode ser todas ou, para alguns procedimentos, as de alto risco\n",
    "- nivel_atencao: nível de atenção onde aquele procedimento geralmente é realizado\n",
    "- categoria_profissional_fim: a categoria profissional finalística que executa o procedimento. Existem categorias de apoio, mas estamos mapeando apenas a categoria fim \n",
    "- quantidade: quantidade de procedimentos que devem ser realizados tendo em vista as colunas parametro e qtd_nascidos\n",
    "- mes_gestacao: mês da gestação que aquele procedimento deve ser realizado, tomando como referência as colunas ano_mes e mes\n",
    "- qtd_nascidos: quantidade de registros de nascidos vivos para a região de saúde\n",
    "- regiao: código IBGE que identifica a região de saúde"
   ]
  },
  {
   "cell_type": "markdown",
   "metadata": {},
   "source": [
    "# Calculando procedimentos por mês "
   ]
  },
  {
   "cell_type": "markdown",
   "metadata": {},
   "source": [
    "Agora vamos calcular a quantidade de procedimentos por mês de realização do procedimento"
   ]
  },
  {
   "cell_type": "code",
   "execution_count": 60,
   "metadata": {},
   "outputs": [],
   "source": [
    "procedimentos_mes = df_full.groupby(['regiao','ano_mes','mes_gestacao','qtd_nascidos',\n",
    "                                     'codigo_sigtap'])['quantidade'].sum().reset_index()"
   ]
  },
  {
   "cell_type": "code",
   "execution_count": 61,
   "metadata": {},
   "outputs": [
    {
     "data": {
      "text/html": [
       "<div>\n",
       "<style scoped>\n",
       "    .dataframe tbody tr th:only-of-type {\n",
       "        vertical-align: middle;\n",
       "    }\n",
       "\n",
       "    .dataframe tbody tr th {\n",
       "        vertical-align: top;\n",
       "    }\n",
       "\n",
       "    .dataframe thead th {\n",
       "        text-align: right;\n",
       "    }\n",
       "</style>\n",
       "<table border=\"1\" class=\"dataframe\">\n",
       "  <thead>\n",
       "    <tr style=\"text-align: right;\">\n",
       "      <th></th>\n",
       "      <th>regiao</th>\n",
       "      <th>ano_mes</th>\n",
       "      <th>mes_gestacao</th>\n",
       "      <th>qtd_nascidos</th>\n",
       "      <th>codigo_sigtap</th>\n",
       "      <th>quantidade</th>\n",
       "    </tr>\n",
       "  </thead>\n",
       "  <tbody>\n",
       "    <tr>\n",
       "      <th>0</th>\n",
       "      <td>52001</td>\n",
       "      <td>2000-01</td>\n",
       "      <td>1999-05-01</td>\n",
       "      <td>2092</td>\n",
       "      <td>301010110</td>\n",
       "      <td>2092.0</td>\n",
       "    </tr>\n",
       "    <tr>\n",
       "      <th>1</th>\n",
       "      <td>52001</td>\n",
       "      <td>2000-01</td>\n",
       "      <td>1999-06-01</td>\n",
       "      <td>2092</td>\n",
       "      <td>202020355</td>\n",
       "      <td>2092.0</td>\n",
       "    </tr>\n",
       "    <tr>\n",
       "      <th>2</th>\n",
       "      <td>52001</td>\n",
       "      <td>2000-01</td>\n",
       "      <td>1999-06-01</td>\n",
       "      <td>2092</td>\n",
       "      <td>202020380</td>\n",
       "      <td>2092.0</td>\n",
       "    </tr>\n",
       "    <tr>\n",
       "      <th>3</th>\n",
       "      <td>52001</td>\n",
       "      <td>2000-01</td>\n",
       "      <td>1999-06-01</td>\n",
       "      <td>2092</td>\n",
       "      <td>202020479</td>\n",
       "      <td>1046.0</td>\n",
       "    </tr>\n",
       "    <tr>\n",
       "      <th>4</th>\n",
       "      <td>52001</td>\n",
       "      <td>2000-01</td>\n",
       "      <td>1999-06-01</td>\n",
       "      <td>2092</td>\n",
       "      <td>202030180</td>\n",
       "      <td>2092.0</td>\n",
       "    </tr>\n",
       "  </tbody>\n",
       "</table>\n",
       "</div>"
      ],
      "text/plain": [
       "  regiao  ano_mes mes_gestacao  qtd_nascidos codigo_sigtap  quantidade\n",
       "0  52001  2000-01   1999-05-01          2092     301010110      2092.0\n",
       "1  52001  2000-01   1999-06-01          2092     202020355      2092.0\n",
       "2  52001  2000-01   1999-06-01          2092     202020380      2092.0\n",
       "3  52001  2000-01   1999-06-01          2092     202020479      1046.0\n",
       "4  52001  2000-01   1999-06-01          2092     202030180      2092.0"
      ]
     },
     "execution_count": 61,
     "metadata": {},
     "output_type": "execute_result"
    }
   ],
   "source": [
    "procedimentos_mes[[\"mes_gestacao\"]] = procedimentos_mes[[\"mes_gestacao\"]].apply(pd.to_datetime) \n",
    "procedimentos_mes['codigo_sigtap'] = procedimentos_mes['codigo_sigtap'].astype('str') \n",
    "\n",
    "procedimentos_mes.head()"
   ]
  },
  {
   "cell_type": "markdown",
   "metadata": {},
   "source": [
    "Considerando o total de procedimentos, vamos computar em horas primeiro. Para isso, vamos ler uma planilha com estimativas de tempos dos procedimento. **Em uma implementação de sistema, é requisito que os tempos sejam ajustados pelo usuário.** "
   ]
  },
  {
   "cell_type": "code",
   "execution_count": null,
   "metadata": {},
   "outputs": [],
   "source": [
    "tempos = pd.read_excel(\"procedimentos_tempos.xlsx\") \n",
    "tempos['codigo_sigtap'] = tempos['codigo_sigtap'].astype('str')\n",
    "tempos.info()"
   ]
  },
  {
   "cell_type": "code",
   "execution_count": null,
   "metadata": {},
   "outputs": [],
   "source": [
    "df_tempos = procedimentos_mes.merge(tempos, on = 'codigo_sigtap', how = 'left')\n",
    "\n",
    "df_tempos['horasProfissionais'] = df_tempos['quantidade'] * df_tempos['Tempo'] \n",
    "\n",
    "df_tempos.head()"
   ]
  },
  {
   "cell_type": "markdown",
   "metadata": {},
   "source": [
    "Agora vamos ver os perfis de profissionais que atuam nos procedimentos. Temos profissionais que podem atuar em mais de um procedimento (ex.: médicos e enfermeiros podem atuar no pré-natal). Por isso que tem essa contagem resultando no df mix. Se o procedimento é realizado por dois profissionais, dividimos as horasProfissionais para duas categorias. "
   ]
  },
  {
   "cell_type": "code",
   "execution_count": null,
   "metadata": {},
   "outputs": [],
   "source": [
    "df_profissionais = pd.read_excel('procedimentos_profissionais.xlsx')\n",
    "\n",
    "df_profissionais['codigo_sigtap'] = df_profissionais['codigo_sigtap'].astype('str')\n",
    "\n",
    "mix = df_profissionais.groupby(['codigo_sigtap'])['CBO'].count().reset_index()\n",
    "\n",
    "mix = mix.rename(columns={\"CBO\":\"qtd\"})"
   ]
  },
  {
   "cell_type": "code",
   "execution_count": null,
   "metadata": {},
   "outputs": [],
   "source": [
    "df_tempos = df_tempos.merge(mix, on = 'codigo_sigtap', how = 'left') \n",
    "\n",
    "df_tempos['horas_categoria'] = df_tempos['horasProfissionais'] / df_tempos['qtd']\n",
    "\n",
    "df_tempos.head()"
   ]
  },
  {
   "cell_type": "code",
   "execution_count": null,
   "metadata": {},
   "outputs": [],
   "source": [
    "#df_tempos.to_csv('procedimentos_hora_PBI_v1.csv')"
   ]
  },
  {
   "cell_type": "markdown",
   "metadata": {},
   "source": [
    "Aqui dividimos o quantitativo de profissionais por 126, que é o correspondente de horas líquidas mensais de um profissional de 40h semanais para calcular a métrica da FTE40"
   ]
  },
  {
   "cell_type": "code",
   "execution_count": null,
   "metadata": {},
   "outputs": [],
   "source": [
    "df_tempo_prof = df_tempos.merge(df_profissionais, on = 'codigo_sigtap', how = 'left')\n",
    "\n",
    "df_tempo_prof = df_tempo_prof.groupby(['regiao', 'mes_gestacao', 'qtd_nascidos', 'ano_mes',\n",
    "                       'categoria_profissional_fim','CBO'])['horas_categoria'].sum().reset_index()\n",
    "\n",
    "df_tempo_prof['fte40'] = df_tempo_prof['horas_categoria']/126\n",
    "\n",
    "df_tempo_prof.head(40)"
   ]
  },
  {
   "cell_type": "markdown",
   "metadata": {},
   "source": [
    "Tomando uma região como referência para fazer as análises"
   ]
  },
  {
   "cell_type": "code",
   "execution_count": null,
   "metadata": {},
   "outputs": [],
   "source": [
    "# tomando um regiao como referência \n",
    "\n",
    "df_11001 = df_tempo_prof[(df_tempo_prof.regiao =='52001')]\n",
    "\n",
    "ax = sns.lineplot(x = \"mes_gestacao\", y = \"fte40\", data=df_11001, hue = 'categoria_profissional_fim',\n",
    "              style=\"categoria_profissional_fim\")\n",
    "\n",
    "#x_dates = df_11001['mes_gestacao'].dt.strftime('%Y-%m-%d').sort_values().unique()\n",
    "\n",
    "#ax.set_xticklabels(labels=x_dates, rotation=45, ha='right')\n",
    "\n",
    "sns.move_legend(ax, \"upper left\", bbox_to_anchor=(1, 1))\n",
    "\n",
    "plt.show()\n"
   ]
  },
  {
   "cell_type": "code",
   "execution_count": null,
   "metadata": {},
   "outputs": [],
   "source": [
    "# salvando para jogar no pbi \n",
    "\n",
    "# df_tempo_prof.to_csv('df_completoPBI_v2.csv')"
   ]
  }
 ],
 "metadata": {
  "kernelspec": {
   "display_name": "Python 3 (ipykernel)",
   "language": "python",
   "name": "python3"
  },
  "language_info": {
   "codemirror_mode": {
    "name": "ipython",
    "version": 3
   },
   "file_extension": ".py",
   "mimetype": "text/x-python",
   "name": "python",
   "nbconvert_exporter": "python",
   "pygments_lexer": "ipython3",
   "version": "3.9.13"
  }
 },
 "nbformat": 4,
 "nbformat_minor": 2
}
